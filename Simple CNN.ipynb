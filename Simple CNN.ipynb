{
 "cells": [
  {
   "cell_type": "code",
   "execution_count": null,
   "metadata": {
    "scrolled": true
   },
   "outputs": [],
   "source": [
    "from __future__ import print_function\n",
    "import tensorflow.python #.keras\n",
    "from tensorflow.python.keras.models import Sequential\n",
    "from tensorflow.python.keras.layers import Dense, Dropout, Flatten, Input, Reshape\n",
    "from tensorflow.python.keras.layers import Conv2D, UpSampling2D, BatchNormalization\n",
    "from tensorflow.python.keras.layers import LeakyReLU\n",
    "from tensorflow.python.keras.utils import to_categorical\n",
    "from tensorflow.python.keras.models import Model\n",
    "from tensorflow.python.keras.callbacks import EarlyStopping\n",
    "from tensorflow.python.keras import backend as K\n",
    "import numpy as np\n",
    "import pickle"
   ]
  },
  {
   "cell_type": "code",
   "execution_count": null,
   "metadata": {},
   "outputs": [],
   "source": [
    "with open('data.pkl', 'rb') as f:\n",
    "    x_train = pickle.load(f)\n",
    "x_train = x_train.astype('float32')\n",
    "x_train /= 255"
   ]
  },
  {
   "cell_type": "code",
   "execution_count": null,
   "metadata": {},
   "outputs": [],
   "source": [
    "m = 4; n = 1; k = 35;\n",
    "X_train = np.zeros((x_train.shape[0]-k-m, x_train.shape[1], x_train.shape[2], x_train.shape[3], m));\n",
    "Y_train = np.zeros((x_train.shape[0]-k-m, x_train.shape[1], x_train.shape[2], x_train.shape[3]));\n",
    "X_test = np.zeros((k, x_train.shape[1], x_train.shape[2], x_train.shape[3], m));\n",
    "Y_test = np.zeros((k, x_train.shape[1], x_train.shape[2], x_train.shape[3]));\n",
    "for i in range(x_train.shape[0]-m-k):\n",
    "    for j in range(m):\n",
    "        X_train[i,:,:,:,j] = x_train[i+j]\n",
    "    Y_train[i] = x_train[i+m]\n",
    "for i in range(x_train.shape[0]-m-k, x_train.shape[0]-m):\n",
    "    for j in range(m):\n",
    "        X_test[i-x_train.shape[0]+m+k,:,:,:,j] = x_train[i+j]\n",
    "    Y_test[i-x_train.shape[0]+m+k] = x_train[i+m]\n",
    "\n",
    "X_train = np.reshape(X_train, [X_train.shape[0], X_train.shape[1], X_train.shape[2], X_train.shape[3]*m])\n",
    "X_test = np.reshape(X_test, [X_test.shape[0], X_test.shape[1], X_test.shape[2], X_test.shape[3]*m])"
   ]
  },
  {
   "cell_type": "code",
   "execution_count": null,
   "metadata": {},
   "outputs": [],
   "source": [
    "input_d = Input(shape = (144, 256, 3*m,))\n",
    "layerd1 = Conv2D(64, (3, 3), strides = (2, 2), padding = 'same', activation='relu') (input_d)\n",
    "layerd1 = BatchNormalization(momentum=0.8)(Dropout(0.25)(LeakyReLU(alpha=0.2)(layerd1)))\n",
    "layerd1 = UpSampling2D()(layerd1)\n",
    "\n",
    "layerd2 = Conv2D(64, (3, 3), strides = (2, 2), padding = 'same', activation='relu') (layerd1)\n",
    "layerd2 = BatchNormalization(momentum=0.8)(Dropout(0.25)(LeakyReLU(alpha=0.2)(layerd2)))\n",
    "layerd2 = UpSampling2D()(layerd2)\n",
    "\n",
    "layerd3 = Conv2D(64, (3, 3), strides = (2, 2), padding = 'same', activation='relu') (layerd2)\n",
    "layerd3 = BatchNormalization(momentum=0.8)(Dropout(0.25)(LeakyReLU(alpha=0.2)(layerd3)))\n",
    "layerd3 = UpSampling2D()(layerd3)\n",
    "\n",
    "output = Conv2D(3, (3, 3), padding = 'same', activation='relu') (layerd3)\n",
    "\n",
    "model_d = Model(inputs=input_d, outputs=output);"
   ]
  },
  {
   "cell_type": "code",
   "execution_count": null,
   "metadata": {
    "scrolled": true
   },
   "outputs": [],
   "source": [
    "model_d.summary()"
   ]
  },
  {
   "cell_type": "code",
   "execution_count": null,
   "metadata": {},
   "outputs": [],
   "source": [
    "model_d.compile(loss='binary_crossentropy',\n",
    "            optimizer='adam', metrics=['accuracy'])"
   ]
  },
  {
   "cell_type": "code",
   "execution_count": null,
   "metadata": {
    "scrolled": true
   },
   "outputs": [],
   "source": [
    "stopper = EarlyStopping(monitor='acc',\n",
    "                              min_delta=0,\n",
    "                              patience=0,\n",
    "                              verbose=1, mode='auto')\n",
    "model_d.fit(X_train, Y_train, \n",
    "          batch_size=8, epochs=10, callbacks=[stopper], verbose=1)"
   ]
  },
  {
   "cell_type": "code",
   "execution_count": null,
   "metadata": {},
   "outputs": [],
   "source": [
    "Yhat_test = model_d.predict(X_test)"
   ]
  },
  {
   "cell_type": "code",
   "execution_count": null,
   "metadata": {},
   "outputs": [],
   "source": [
    "import numpy as np\n",
    "import math\n",
    "\n",
    "def psnr(img1, img2):\n",
    "    mse = np.mean((img1-img2)**2)\n",
    "    if mse == 0:\n",
    "        return 100\n",
    "    PIXEL_MAX = 255.0\n",
    "    return 20 * math.log10(PIXEL_MAX / math.sqrt(mse))\n",
    "print(psnr(Yhat_test[8,:,:,:],Y_test[8,:,:,:]))"
   ]
  },
  {
   "cell_type": "code",
   "execution_count": null,
   "metadata": {
    "scrolled": false
   },
   "outputs": [],
   "source": [
    "import matplotlib.pyplot as plt\n",
    "plt.imshow(Yhat_test[8,:,:,:])"
   ]
  }
 ],
 "metadata": {
  "kernelspec": {
   "display_name": "Python 3",
   "language": "python",
   "name": "python3"
  },
  "language_info": {
   "codemirror_mode": {
    "name": "ipython",
    "version": 3
   },
   "file_extension": ".py",
   "mimetype": "text/x-python",
   "name": "python",
   "nbconvert_exporter": "python",
   "pygments_lexer": "ipython3",
   "version": "3.5.4"
  }
 },
 "nbformat": 4,
 "nbformat_minor": 2
}
