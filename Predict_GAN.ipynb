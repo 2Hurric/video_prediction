{
 "cells": [
  {
   "cell_type": "code",
   "execution_count": 170,
   "metadata": {},
   "outputs": [],
   "source": [
    "from __future__ import print_function\n",
    "import tensorflow.python.keras\n",
    "from tensorflow.python.keras.models import Sequential\n",
    "from tensorflow.python.keras.layers import Dense, Dropout, Flatten, Input, Reshape\n",
    "from tensorflow.python.keras.layers import Conv2D, UpSampling2D, BatchNormalization\n",
    "from tensorflow.python.keras.layers import LeakyReLU\n",
    "from tensorflow.python.keras.layers import concatenate\n",
    "from tensorflow.python.keras.utils import to_categorical\n",
    "from tensorflow.python.keras.models import Model\n",
    "from tensorflow.python.keras.callbacks import EarlyStopping\n",
    "import numpy as np\n",
    "import matplotlib.pyplot as plt\n",
    "import pickle"
   ]
  },
  {
   "cell_type": "code",
   "execution_count": 97,
   "metadata": {},
   "outputs": [],
   "source": [
    "with open('data.pkl', 'rb') as f:\n",
    "    x_train = pickle.load(f)\n",
    "x_train = x_train.astype('float32')\n",
    "#x_train /= 255"
   ]
  },
  {
   "cell_type": "code",
   "execution_count": 195,
   "metadata": {},
   "outputs": [],
   "source": [
    "m = 4; n = 1; k = 0;\n",
    "X_train = np.zeros((x_train.shape[0]-k-m, x_train.shape[1], x_train.shape[2], x_train.shape[3], m));\n",
    "Y_train = np.zeros((x_train.shape[0]-k-m, x_train.shape[1], x_train.shape[2], x_train.shape[3]));\n",
    "\n",
    "for i in range(x_train.shape[0]-m-k):\n",
    "    for j in range(m):\n",
    "        X_train[i,:,:,:,j] = x_train[i+j]\n",
    "    Y_train[i] = x_train[i+m]\n",
    "'''\n",
    "X_test = np.zeros((k, x_train.shape[1], x_train.shape[2], x_train.shape[3], m));\n",
    "Y_test = np.zeros((k, x_train.shape[1], x_train.shape[2], x_train.shape[3]));\n",
    "for i in range(x_train.shape[0]-m-k, x_train.shape[0]-m):\n",
    "    for j in range(m):\n",
    "        X_test[i-x_train.shape[0]+m+k,:,:,:,j] = x_train[i+j]\n",
    "    Y_test[i-x_train.shape[0]+m+k] = x_train[i+m]\n",
    "    X_test = np.reshape(X_test, [X_test.shape[0], X_test.shape[1], X_test.shape[2], X_test.shape[3]*m])\n",
    "'''\n",
    "X_train = np.reshape(X_train, [X_train.shape[0], X_train.shape[1], X_train.shape[2], X_train.shape[3]*m])\n",
    "X_train = X_train.astype(np.float32) / 255\n",
    "Y_train = Y_train.astype(np.float32) / 255"
   ]
  },
  {
   "cell_type": "code",
   "execution_count": 197,
   "metadata": {},
   "outputs": [
    {
     "data": {
      "text/plain": [
       "0.9843137"
      ]
     },
     "execution_count": 197,
     "metadata": {},
     "output_type": "execute_result"
    }
   ],
   "source": [
    "np.amax(X_train)"
   ]
  },
  {
   "cell_type": "code",
   "execution_count": 198,
   "metadata": {},
   "outputs": [],
   "source": [
    "input_g = Input(shape = (100,))\n",
    "layerg0 = Dense(3*64*36)(input_g)\n",
    "layerg0 = Reshape((36,64,3))(layerg0)\n",
    "\n",
    "layerg1 = Conv2D(64, (3, 3), padding = 'same', activation='relu') (layerg0)\n",
    "layerg1 = BatchNormalization(momentum=0.8)(Dropout(0.25)(LeakyReLU(alpha=0.2)(layerg1)))\n",
    "layerg1 = UpSampling2D()(layerg1)\n",
    "\n",
    "layerg2 = Conv2D(32, (3, 3), padding = 'same', activation='relu') (layerg1)\n",
    "layerg2 = BatchNormalization(momentum=0.8)(Dropout(0.25)(LeakyReLU(alpha=0.2)(layerg2)))\n",
    "layerg2 = UpSampling2D()(layerg2)\n",
    "\n",
    "layerg3 = Conv2D(3, (3, 3), padding = 'same', activation='relu') (layerg2)\n",
    "layerg3 = BatchNormalization(momentum=0.8)(Dropout(0.25)(LeakyReLU(alpha=0.2)(layerg3)))\n",
    "\n",
    "aux_input_g = Input(shape = (144,256,3*m,),name='data_in')\n",
    "output = concatenate([aux_input_g, layerg3],axis=-1)\n",
    "\n",
    "model_g = Model(inputs=[input_g, aux_input_g], outputs=output)"
   ]
  },
  {
   "cell_type": "code",
   "execution_count": 141,
   "metadata": {
    "scrolled": false
   },
   "outputs": [
    {
     "name": "stdout",
     "output_type": "stream",
     "text": [
      "__________________________________________________________________________________________________\n",
      "Layer (type)                    Output Shape         Param #     Connected to                     \n",
      "==================================================================================================\n",
      "input_11 (InputLayer)           (None, 100)          0                                            \n",
      "__________________________________________________________________________________________________\n",
      "dense_9 (Dense)                 (None, 6912)         698112      input_11[0][0]                   \n",
      "__________________________________________________________________________________________________\n",
      "reshape_6 (Reshape)             (None, 36, 64, 3)    0           dense_9[0][0]                    \n",
      "__________________________________________________________________________________________________\n",
      "conv2d_28 (Conv2D)              (None, 36, 64, 64)   1792        reshape_6[0][0]                  \n",
      "__________________________________________________________________________________________________\n",
      "leaky_re_lu_25 (LeakyReLU)      (None, 36, 64, 64)   0           conv2d_28[0][0]                  \n",
      "__________________________________________________________________________________________________\n",
      "dropout_25 (Dropout)            (None, 36, 64, 64)   0           leaky_re_lu_25[0][0]             \n",
      "__________________________________________________________________________________________________\n",
      "batch_normalization_25 (BatchNo (None, 36, 64, 64)   256         dropout_25[0][0]                 \n",
      "__________________________________________________________________________________________________\n",
      "up_sampling2d_11 (UpSampling2D) (None, 72, 128, 64)  0           batch_normalization_25[0][0]     \n",
      "__________________________________________________________________________________________________\n",
      "conv2d_29 (Conv2D)              (None, 72, 128, 32)  18464       up_sampling2d_11[0][0]           \n",
      "__________________________________________________________________________________________________\n",
      "leaky_re_lu_26 (LeakyReLU)      (None, 72, 128, 32)  0           conv2d_29[0][0]                  \n",
      "__________________________________________________________________________________________________\n",
      "dropout_26 (Dropout)            (None, 72, 128, 32)  0           leaky_re_lu_26[0][0]             \n",
      "__________________________________________________________________________________________________\n",
      "batch_normalization_26 (BatchNo (None, 72, 128, 32)  128         dropout_26[0][0]                 \n",
      "__________________________________________________________________________________________________\n",
      "up_sampling2d_12 (UpSampling2D) (None, 144, 256, 32) 0           batch_normalization_26[0][0]     \n",
      "__________________________________________________________________________________________________\n",
      "conv2d_30 (Conv2D)              (None, 144, 256, 3)  867         up_sampling2d_12[0][0]           \n",
      "__________________________________________________________________________________________________\n",
      "leaky_re_lu_27 (LeakyReLU)      (None, 144, 256, 3)  0           conv2d_30[0][0]                  \n",
      "__________________________________________________________________________________________________\n",
      "dropout_27 (Dropout)            (None, 144, 256, 3)  0           leaky_re_lu_27[0][0]             \n",
      "__________________________________________________________________________________________________\n",
      "data_in (InputLayer)            (None, 144, 256, 12) 0                                            \n",
      "__________________________________________________________________________________________________\n",
      "batch_normalization_27 (BatchNo (None, 144, 256, 3)  12          dropout_27[0][0]                 \n",
      "__________________________________________________________________________________________________\n",
      "concatenate_4 (Concatenate)     (None, 144, 256, 15) 0           data_in[0][0]                    \n",
      "                                                                 batch_normalization_27[0][0]     \n",
      "==================================================================================================\n",
      "Total params: 719,631\n",
      "Trainable params: 719,433\n",
      "Non-trainable params: 198\n",
      "__________________________________________________________________________________________________\n"
     ]
    }
   ],
   "source": [
    "model_g.summary()"
   ]
  },
  {
   "cell_type": "code",
   "execution_count": 142,
   "metadata": {},
   "outputs": [],
   "source": [
    "#input_d = Input(shape = (144, 256, 3,))\n",
    "input_d = Input(shape = (144, 256, 3*(m+1),))\n",
    "layerd1 = Conv2D(64, (3, 3), strides = (2, 2), padding = 'same', activation='relu') (input_d)\n",
    "layerd1 = BatchNormalization(momentum=0.8)(Dropout(0.25)(LeakyReLU(alpha=0.2)(layerd1)))\n",
    "\n",
    "layerd2 = Conv2D(64, (3, 3), strides = (2, 2), padding = 'same', activation='relu') (layerd1)\n",
    "layerd2 = BatchNormalization(momentum=0.8)(Dropout(0.25)(LeakyReLU(alpha=0.2)(layerd2)))\n",
    "\n",
    "layerd3 = Conv2D(64, (3, 3), strides = (2, 2), padding = 'same', activation='relu') (layerd2)\n",
    "layerd3 = BatchNormalization(momentum=0.8)(Dropout(0.25)(LeakyReLU(alpha=0.2)(layerd3)))\n",
    "\n",
    "layerd4 = Conv2D(3, (3, 3), padding = 'same', activation='relu') (layerd3)\n",
    "layerd4 = Flatten()(layerd4)\n",
    "output = Dense(1, activation='sigmoid')(layerd4)\n",
    "model_d = Model(inputs=input_d, outputs=output);"
   ]
  },
  {
   "cell_type": "code",
   "execution_count": 143,
   "metadata": {
    "scrolled": true
   },
   "outputs": [
    {
     "name": "stdout",
     "output_type": "stream",
     "text": [
      "_________________________________________________________________\n",
      "Layer (type)                 Output Shape              Param #   \n",
      "=================================================================\n",
      "input_12 (InputLayer)        (None, 144, 256, 15)      0         \n",
      "_________________________________________________________________\n",
      "conv2d_31 (Conv2D)           (None, 72, 128, 64)       8704      \n",
      "_________________________________________________________________\n",
      "leaky_re_lu_28 (LeakyReLU)   (None, 72, 128, 64)       0         \n",
      "_________________________________________________________________\n",
      "dropout_28 (Dropout)         (None, 72, 128, 64)       0         \n",
      "_________________________________________________________________\n",
      "batch_normalization_28 (Batc (None, 72, 128, 64)       256       \n",
      "_________________________________________________________________\n",
      "conv2d_32 (Conv2D)           (None, 36, 64, 64)        36928     \n",
      "_________________________________________________________________\n",
      "leaky_re_lu_29 (LeakyReLU)   (None, 36, 64, 64)        0         \n",
      "_________________________________________________________________\n",
      "dropout_29 (Dropout)         (None, 36, 64, 64)        0         \n",
      "_________________________________________________________________\n",
      "batch_normalization_29 (Batc (None, 36, 64, 64)        256       \n",
      "_________________________________________________________________\n",
      "conv2d_33 (Conv2D)           (None, 18, 32, 64)        36928     \n",
      "_________________________________________________________________\n",
      "leaky_re_lu_30 (LeakyReLU)   (None, 18, 32, 64)        0         \n",
      "_________________________________________________________________\n",
      "dropout_30 (Dropout)         (None, 18, 32, 64)        0         \n",
      "_________________________________________________________________\n",
      "batch_normalization_30 (Batc (None, 18, 32, 64)        256       \n",
      "_________________________________________________________________\n",
      "conv2d_34 (Conv2D)           (None, 18, 32, 3)         1731      \n",
      "_________________________________________________________________\n",
      "flatten_4 (Flatten)          (None, 1728)              0         \n",
      "_________________________________________________________________\n",
      "dense_10 (Dense)             (None, 1)                 1729      \n",
      "=================================================================\n",
      "Total params: 86,788\n",
      "Trainable params: 86,404\n",
      "Non-trainable params: 384\n",
      "_________________________________________________________________\n"
     ]
    }
   ],
   "source": [
    "model_d.summary()"
   ]
  },
  {
   "cell_type": "code",
   "execution_count": 199,
   "metadata": {
    "scrolled": true
   },
   "outputs": [],
   "source": [
    "out_g = model_g([input_g,aux_input_g])\n",
    "out = model_d(out_g)\n",
    "model = Model(inputs=[input_g,aux_input_g], outputs=out)"
   ]
  },
  {
   "cell_type": "code",
   "execution_count": 200,
   "metadata": {},
   "outputs": [],
   "source": [
    "idx = np.random.randint(0, X_train.shape[0], 8)\n",
    "imgs = np.concatenate((X_train[idx], Y_train[idx]),axis=3);"
   ]
  },
  {
   "cell_type": "code",
   "execution_count": 201,
   "metadata": {},
   "outputs": [],
   "source": [
    "model_d.compile(loss='binary_crossentropy',\n",
    "            optimizer='adam', metrics=['accuracy'])\n",
    "\n",
    "model_g.compile(loss='binary_crossentropy',\n",
    "            optimizer='adam')\n",
    "\n",
    "model.compile(loss='binary_crossentropy',\n",
    "            optimizer='adam', metrics=['accuracy'])"
   ]
  },
  {
   "cell_type": "code",
   "execution_count": 203,
   "metadata": {
    "scrolled": false
   },
   "outputs": [
    {
     "data": {
      "text/plain": [
       "(8, 144, 256, 12)"
      ]
     },
     "execution_count": 203,
     "metadata": {},
     "output_type": "execute_result"
    }
   ],
   "source": [
    "np.concatenate((dataimgs, dataimgs)).shape"
   ]
  },
  {
   "cell_type": "code",
   "execution_count": 204,
   "metadata": {},
   "outputs": [
    {
     "name": "stdout",
     "output_type": "stream",
     "text": [
      "(144, 256, 3)\n"
     ]
    }
   ],
   "source": [
    "imz = gen_imgs[0][:,:,9:12]\n",
    "print(imz.shape)"
   ]
  },
  {
   "cell_type": "code",
   "execution_count": 205,
   "metadata": {},
   "outputs": [
    {
     "data": {
      "text/plain": [
       "-1.0"
      ]
     },
     "execution_count": 205,
     "metadata": {},
     "output_type": "execute_result"
    }
   ],
   "source": [
    "np.amin(imz)"
   ]
  },
  {
   "cell_type": "code",
   "execution_count": 206,
   "metadata": {
    "scrolled": true
   },
   "outputs": [
    {
     "name": "stderr",
     "output_type": "stream",
     "text": [
      "Clipping input data to the valid range for imshow with RGB data ([0..1] for floats or [0..255] for integers).\n"
     ]
    },
    {
     "data": {
      "image/png": "[encoded data removed]",
      "text/plain": [
       "<Figure size 432x288 with 1 Axes>"
      ]
     },
     "metadata": {},
     "output_type": "display_data"
    }
   ],
   "source": [
    "plt.imshow(imz)\n",
    "plt.show()"
   ]
  },
  {
   "cell_type": "code",
   "execution_count": null,
   "metadata": {},
   "outputs": [],
   "source": [
    "import numpy as np\n",
    "import math\n",
    "\n",
    "def psnr(img1, img2):\n",
    "    mse = np.mean((img1-img2)**2)\n",
    "    if mse == 0:\n",
    "        return 100\n",
    "    PIXEL_MAX = 255.0\n",
    "    return 20 * math.log10(PIXEL_MAX / math.sqrt(mse))\n",
    "print(psnr(Yhat_test[8,:,:,:],Y_test[8,:,:,:]))"
   ]
  },
  {
   "cell_type": "code",
   "execution_count": null,
   "metadata": {},
   "outputs": [
    {
     "name": "stdout",
     "output_type": "stream",
     "text": [
      "0 [D loss: 2.581730, acc.: 50.00%] [G loss: 0.004655]\n",
      "100 [D loss: 0.000109, acc.: 100.00%] [G loss: 0.000003]\n",
      "200 [D loss: 0.000000, acc.: 100.00%] [G loss: 0.000010]\n"
     ]
    }
   ],
   "source": [
    "batch_size = 8\n",
    "epochs = 4000\n",
    "half_batch = int(batch_size / 2)\n",
    "\n",
    "for epoch in range(epochs):\n",
    "    # ---------------------\n",
    "    #  Train Discriminator\n",
    "    # ---------------------\n",
    "    # Select a random half batch of images\n",
    "    idx = np.random.randint(0, X_train.shape[0], half_batch)\n",
    "    imgs = Y_train[idx]\n",
    "    #Previous frames\n",
    "    dataimgs = X_train[idx]\n",
    "    # Sample noise and generate a half batch of new images\n",
    "    noise = np.random.normal(0, 1, (half_batch, 100))\n",
    "    gen_imgs = model_g.predict([noise, dataimgs])\n",
    "\n",
    "    imgs = np.concatenate((dataimgs, imgs), 3);\n",
    "    #gen_imgs = np.concatenate((dataimgs, gen_imgs), 3);\n",
    "\n",
    "    # Train the discriminator (real classified as ones and generated as zeros)\n",
    "    d_loss_real = model_d.train_on_batch(imgs, np.ones((half_batch, 1)))\n",
    "    d_loss_fake = model_d.train_on_batch(gen_imgs, np.zeros((half_batch, 1)))\n",
    "    d_loss = 0.5 * np.add(d_loss_real, d_loss_fake)\n",
    "\n",
    "    # ---------------------\n",
    "    #  Train Generator\n",
    "    # ---------------------\n",
    "\n",
    "    # Sample generator input\n",
    "    noise = np.random.normal(0, 1, (batch_size, 100))\n",
    "\n",
    "    # Train the generator (wants discriminator to mistake images as real)\n",
    "    g_loss = model.train_on_batch([noise, np.concatenate((dataimgs, dataimgs))], np.ones((batch_size, 1)))\n",
    "\n",
    "    # Plot the progress\n",
    "    if epoch%100 == 0:\n",
    "        print (\"%d [D loss: %f, acc.: %.2f%%] [G loss: %f]\" % (epoch, d_loss[0], 100*d_loss[1], g_loss[0]))"
   ]
  },
  {
   "cell_type": "markdown",
   "metadata": {
    "scrolled": true
   },
   "source": [
    "stopper = EarlyStopping(monitor='acc',\n",
    "                              min_delta=0,\n",
    "                              patience=0,\n",
    "                              verbose=1, mode='auto')\n",
    "model.fit(X_train, Y_train, \n",
    "          batch_size=8, epochs=10, callbacks=[stopper], verbose=1)"
   ]
  },
  {
   "cell_type": "markdown",
   "metadata": {},
   "source": [
    "Yhat_test = model_d.predict(X_test)"
   ]
  },
  {
   "cell_type": "markdown",
   "metadata": {},
   "source": [
    "Y_test.shape"
   ]
  },
  {
   "cell_type": "markdown",
   "metadata": {
    "scrolled": false
   },
   "source": [
    "import matplotlib.pyplot as plt\n",
    "plt.imshow(Yhat_test[8,:,:,:])"
   ]
  },
  {
   "cell_type": "markdown",
   "metadata": {},
   "source": [
    "batch_size = 8\n",
    "epochs = 400\n",
    "half_batch = int(batch_size / 2)\n",
    "\n",
    "for epoch in range(epochs):\n",
    "    # ---------------------\n",
    "    #  Train Discriminator\n",
    "    # ---------------------\n",
    "    # Select a random half batch of images\n",
    "    idx = np.random.randint(0, X_train.shape[0], half_batch)\n",
    "    imgs = X_train[idx]\n",
    "\n",
    "    # Sample noise and generate a half batch of new images\n",
    "    noise = np.random.normal(0, 1, (half_batch, 100))\n",
    "    gen_imgs = model_g.predict(noise)\n",
    "\n",
    "    # Train the discriminator (real classified as ones and generated as zeros)\n",
    "    d_loss_real = model_d.train_on_batch(imgs, np.ones((half_batch, 1)))\n",
    "    d_loss_fake = model_d.train_on_batch(gen_imgs, np.zeros((half_batch, 1)))\n",
    "    d_loss = 0.5 * np.add(d_loss_real, d_loss_fake)\n",
    "\n",
    "    # ---------------------\n",
    "    #  Train Generator\n",
    "    # ---------------------\n",
    "\n",
    "    # Sample generator input\n",
    "    noise = np.random.normal(0, 1, (batch_size, 100))\n",
    "\n",
    "    # Train the generator (wants discriminator to mistake images as real)\n",
    "    g_loss = model.train_on_batch(noise, np.ones((batch_size, 1)))\n",
    "\n",
    "    # Plot the progress\n",
    "    if epoch%10 == 0:\n",
    "        print (\"%d [D loss: %f, acc.: %.2f%%] [G loss: %f]\" % (epoch, d_loss[0], 100*d_loss[1], g_loss[0]))"
   ]
  }
 ],
 "metadata": {
  "kernelspec": {
   "display_name": "Python 3",
   "language": "python",
   "name": "python3"
  },
  "language_info": {
   "codemirror_mode": {
    "name": "ipython",
    "version": 3
   },
   "file_extension": ".py",
   "mimetype": "text/x-python",
   "name": "python",
   "nbconvert_exporter": "python",
   "pygments_lexer": "ipython3",
   "version": "3.5.4"
  }
 },
 "nbformat": 4,
 "nbformat_minor": 2
}
