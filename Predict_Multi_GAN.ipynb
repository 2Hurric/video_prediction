{
 "cells": [
  {
   "cell_type": "code",
   "execution_count": null,
   "metadata": {},
   "outputs": [],
   "source": [
    "from __future__ import print_function\n",
    "import tensorflow.python.keras\n",
    "from tensorflow.python.keras.models import Sequential\n",
    "from tensorflow.python.keras.layers import Dense, Dropout, Flatten, Input, Reshape\n",
    "from tensorflow.python.keras.layers import Conv2D, UpSampling2D, BatchNormalization\n",
    "from tensorflow.python.keras.layers import LeakyReLU\n",
    "from tensorflow.python.keras.layers import concatenate\n",
    "from tensorflow.python.keras.utils import to_categorical\n",
    "from tensorflow.python.keras.models import Model\n",
    "from tensorflow.python.keras.callbacks import EarlyStopping\n",
    "import numpy as np\n",
    "import matplotlib.pyplot as plt\n",
    "import pickle"
   ]
  },
  {
   "cell_type": "markdown",
   "metadata": {},
   "source": [
    "## Load and process data"
   ]
  },
  {
   "cell_type": "code",
   "execution_count": null,
   "metadata": {},
   "outputs": [],
   "source": [
    "with open('data.pkl', 'rb') as f:\n",
    "    x_train = pickle.load(f)\n",
    "x_train = x_train.astype('float32')"
   ]
  },
  {
   "cell_type": "code",
   "execution_count": null,
   "metadata": {
    "scrolled": true
   },
   "outputs": [],
   "source": [
    "X_train[i,:,:,j,:].shape"
   ]
  },
  {
   "cell_type": "code",
   "execution_count": null,
   "metadata": {},
   "outputs": [],
   "source": [
    "120*144*256*12"
   ]
  },
  {
   "cell_type": "code",
   "execution_count": null,
   "metadata": {},
   "outputs": [],
   "source": [
    "m = 4; n = 1;\n",
    "X_train = np.zeros((x_train.shape[0]-m, x_train.shape[1], x_train.shape[2], m, x_train.shape[3]));\n",
    "Y_train = np.zeros((x_train.shape[0]-m, x_train.shape[1], x_train.shape[2], x_train.shape[3]));\n",
    "\n",
    "for i in range(x_train.shape[0]-m):\n",
    "    for j in range(m):\n",
    "        X_train[i,:,:,j,:] = x_train[i+j]\n",
    "    Y_train[i] = x_train[i+m]\n",
    "\n",
    "X_train = np.reshape(X_train, [X_train.shape[0], X_train.shape[1], X_train.shape[2], X_train.shape[4]*m])\n",
    "X_train = X_train.astype(np.float32) / 255\n",
    "Y_train = Y_train.astype(np.float32) / 255"
   ]
  },
  {
   "cell_type": "code",
   "execution_count": null,
   "metadata": {},
   "outputs": [],
   "source": [
    "np.amax(X_train)"
   ]
  },
  {
   "cell_type": "markdown",
   "metadata": {},
   "source": [
    "## Create models"
   ]
  },
  {
   "cell_type": "code",
   "execution_count": null,
   "metadata": {},
   "outputs": [],
   "source": [
    "input_g = Input(shape = (18, 32, 3*m,), name='level0')\n",
    "layerg0 = Conv2D(3, (3, 3), padding = 'same', activation='relu') (input_g)\n",
    "layerg0 = BatchNormalization(momentum=0.8)(Dropout(0.25)(LeakyReLU(alpha=0.2)(layerg0)))\n",
    "layerg0 = UpSampling2D()(layerg0)\n",
    "aux_input_g0 = Input(shape = (36,64,3*m,),name='level1')\n",
    "layerg0 = concatenate([aux_input_g0, layerg0],axis=-1)\n",
    "#36\n",
    "layerg1 = Conv2D(3, (3, 3), padding = 'same', activation='relu') (layerg0)\n",
    "layerg1 = BatchNormalization(momentum=0.8)(Dropout(0.25)(LeakyReLU(alpha=0.2)(layerg1)))\n",
    "layerg1 = UpSampling2D()(layerg1)\n",
    "aux_input_g1 = Input(shape = (72,128,3*m,),name='level2')\n",
    "layerg1 = concatenate([aux_input_g1, layerg1],axis=-1)\n",
    "#72\n",
    "layerg2 = Conv2D(3, (3, 3), padding = 'same', activation='relu') (layerg1)\n",
    "layerg2 = BatchNormalization(momentum=0.8)(Dropout(0.25)(LeakyReLU(alpha=0.2)(layerg2)))\n",
    "layerg2 = UpSampling2D()(layerg2)\n",
    "aux_input_g2 = Input(shape = (144,256,3*m,),name='level3')\n",
    "layerg2 = concatenate([aux_input_g2, layerg2],axis=-1)\n",
    "#144\n",
    "layerg3 = Conv2D(3, (3, 3), padding = 'same', activation='relu') (layerg2)\n",
    "layerg3 = BatchNormalization(momentum=0.8)(Dropout(0.25)(LeakyReLU(alpha=0.2)(layerg3)))\n",
    "aux_input_g3 = Input(shape = (144,256,3*m,),name='level4')\n",
    "output = concatenate([aux_input_g3, layerg3],axis=-1)\n",
    "\n",
    "model_g = Model(inputs=[input_g, aux_input_g0, aux_input_g1, aux_input_g2, aux_input_g3], outputs=output)"
   ]
  },
  {
   "cell_type": "code",
   "execution_count": null,
   "metadata": {
    "scrolled": false
   },
   "outputs": [],
   "source": [
    "model_g.summary()"
   ]
  },
  {
   "cell_type": "code",
   "execution_count": null,
   "metadata": {},
   "outputs": [],
   "source": [
    "#input_d = Input(shape = (144, 256, 3,))\n",
    "input_d = Input(shape = (144, 256, 3*(m+1),))\n",
    "layerd1 = Conv2D(64, (3, 3), strides = (2, 2), padding = 'same', activation='relu') (input_d)\n",
    "layerd1 = BatchNormalization(momentum=0.8)(Dropout(0.25)(LeakyReLU(alpha=0.2)(layerd1)))\n",
    "\n",
    "layerd2 = Conv2D(64, (3, 3), strides = (2, 2), padding = 'same', activation='relu') (layerd1)\n",
    "layerd2 = BatchNormalization(momentum=0.8)(Dropout(0.25)(LeakyReLU(alpha=0.2)(layerd2)))\n",
    "\n",
    "layerd3 = Conv2D(64, (3, 3), strides = (2, 2), padding = 'same', activation='relu') (layerd2)\n",
    "layerd3 = BatchNormalization(momentum=0.8)(Dropout(0.25)(LeakyReLU(alpha=0.2)(layerd3)))\n",
    "\n",
    "layerd4 = Conv2D(3, (3, 3), padding = 'same', activation='relu') (layerd3)\n",
    "layerd4 = Flatten()(layerd4)\n",
    "output = Dense(1, activation='sigmoid')(layerd4)\n",
    "model_d = Model(inputs=input_d, outputs=output);"
   ]
  },
  {
   "cell_type": "code",
   "execution_count": null,
   "metadata": {
    "scrolled": true
   },
   "outputs": [],
   "source": [
    "model_d.summary()"
   ]
  },
  {
   "cell_type": "code",
   "execution_count": null,
   "metadata": {
    "scrolled": true
   },
   "outputs": [],
   "source": [
    "out_g = model_g([input_g,aux_input_g0,aux_input_g1,aux_input_g2,aux_input_g3])\n",
    "out = model_d(out_g)\n",
    "model = Model(inputs=[input_g,aux_input_g0,aux_input_g1,aux_input_g2,aux_input_g3], outputs=out)"
   ]
  },
  {
   "cell_type": "code",
   "execution_count": null,
   "metadata": {},
   "outputs": [],
   "source": [
    "idx = np.random.randint(0, X_train.shape[0], 8)\n",
    "imgs = np.concatenate((X_train[idx], Y_train[idx]),axis=3);"
   ]
  },
  {
   "cell_type": "markdown",
   "metadata": {},
   "source": [
    "## Train the model"
   ]
  },
  {
   "cell_type": "code",
   "execution_count": null,
   "metadata": {},
   "outputs": [],
   "source": [
    "model_d.compile(loss='binary_crossentropy',\n",
    "            optimizer='adam', metrics=['accuracy'])\n",
    "\n",
    "model_g.compile(loss='binary_crossentropy',\n",
    "            optimizer='adam')\n",
    "\n",
    "model.compile(loss='binary_crossentropy',\n",
    "            optimizer='adam', metrics=['accuracy'])"
   ]
  },
  {
   "cell_type": "code",
   "execution_count": null,
   "metadata": {
    "scrolled": false
   },
   "outputs": [],
   "source": [
    "np.concatenate((dataimgs, dataimgs)).shape"
   ]
  },
  {
   "cell_type": "code",
   "execution_count": null,
   "metadata": {
    "scrolled": true
   },
   "outputs": [],
   "source": [
    "print(x_train.shape)\n",
    "plt.imshow(X_train[0,:,:,0:3])"
   ]
  },
  {
   "cell_type": "code",
   "execution_count": null,
   "metadata": {
    "scrolled": true
   },
   "outputs": [],
   "source": [
    "imz = gen_imgs[:,:,:,12:15]\n",
    "print(imz.shape)\n",
    "\n",
    "fig=plt.figure(figsize=(8, 8))\n",
    "columns = 2\n",
    "rows = 2\n",
    "for i in range(1, columns*rows+1):\n",
    "    fig.add_subplot(rows, columns, i)\n",
    "    plt.imshow(imz[i-1,:,:])\n",
    "    #plt.imshow(imz[:,:,3*i-3:3*i])\n",
    "plt.show()"
   ]
  },
  {
   "cell_type": "markdown",
   "metadata": {},
   "source": [
    "## Results and prediction"
   ]
  },
  {
   "cell_type": "code",
   "execution_count": null,
   "metadata": {},
   "outputs": [],
   "source": [
    "import numpy as np\n",
    "import math\n",
    "\n",
    "def psnr(img1, img2):\n",
    "    mse = np.mean((img1-img2)**2)\n",
    "    if mse == 0:\n",
    "        return 100\n",
    "    PIXEL_MAX = 255.0\n",
    "    return 20 * math.log10(PIXEL_MAX / math.sqrt(mse))\n",
    "print(psnr(Yhat_test[8,:,:,:],Y_test[8,:,:,:]))"
   ]
  },
  {
   "cell_type": "code",
   "execution_count": null,
   "metadata": {},
   "outputs": [],
   "source": [
    "batch_size = 8\n",
    "epochs = 401\n",
    "half_batch = int(batch_size / 2)\n",
    "\n",
    "for epoch in range(epochs):\n",
    "    # ---------------------\n",
    "    #  Train Discriminator\n",
    "    # ---------------------\n",
    "    # Select a random half batch of images\n",
    "    idx = np.random.randint(0, X_train.shape[0], half_batch)\n",
    "    imgs = Y_train[idx]\n",
    "    #Previous frames\n",
    "    dataimgs = X_train[idx]\n",
    "    # Sample noise and generate a half batch of new images\n",
    "    noise = np.random.normal(0, 1, (half_batch, 100))\n",
    "    gen_imgs = model_g.predict([noise, dataimgs])\n",
    "\n",
    "    imgs = np.concatenate((dataimgs, imgs), 3);\n",
    "\n",
    "    # Train the discriminator (real classified as ones and generated as zeros)\n",
    "    d_loss_real = model_d.train_on_batch(imgs, np.ones((half_batch, 1)))\n",
    "    d_loss_fake = model_d.train_on_batch(gen_imgs, np.zeros((half_batch, 1)))\n",
    "    d_loss = 0.5 * np.add(d_loss_real, d_loss_fake)\n",
    "\n",
    "    # ---------------------\n",
    "    #  Train Generator\n",
    "    # ---------------------\n",
    "\n",
    "    # Sample generator input\n",
    "    noise = np.random.normal(0, 1, (batch_size, 100))\n",
    "    idx1 = np.random.randint(0, X_train.shape[0], half_batch)\n",
    "    dataimgs1 = X_train[idx1]\n",
    "    # Train the generator (wants discriminator to mistake images as real)\n",
    "    g_loss = model.train_on_batch([noise, np.concatenate((dataimgs, dataimgs1))], np.ones((batch_size, 1)))\n",
    "\n",
    "    # Plot the progress\n",
    "    if epoch%100 == 0:\n",
    "        print (\"%d [D loss: %f, acc.: %.2f%%] [G loss: %f]\" % (epoch, d_loss[0], 100*d_loss[1], g_loss[0]))"
   ]
  },
  {
   "cell_type": "markdown",
   "metadata": {
    "scrolled": true
   },
   "source": [
    "stopper = EarlyStopping(monitor='acc',\n",
    "                              min_delta=0,\n",
    "                              patience=0,\n",
    "                              verbose=1, mode='auto')\n",
    "model.fit(X_train, Y_train, \n",
    "          batch_size=8, epochs=10, callbacks=[stopper], verbose=1)"
   ]
  },
  {
   "cell_type": "markdown",
   "metadata": {},
   "source": [
    "Yhat_test = model_d.predict(X_test)"
   ]
  },
  {
   "cell_type": "markdown",
   "metadata": {},
   "source": [
    "Y_test.shape"
   ]
  },
  {
   "cell_type": "markdown",
   "metadata": {
    "scrolled": false
   },
   "source": [
    "import matplotlib.pyplot as plt\n",
    "plt.imshow(Yhat_test[8,:,:,:])"
   ]
  },
  {
   "cell_type": "markdown",
   "metadata": {},
   "source": [
    "batch_size = 8\n",
    "epochs = 400\n",
    "half_batch = int(batch_size / 2)\n",
    "\n",
    "for epoch in range(epochs):\n",
    "    # ---------------------\n",
    "    #  Train Discriminator\n",
    "    # ---------------------\n",
    "    # Select a random half batch of images\n",
    "    idx = np.random.randint(0, X_train.shape[0], half_batch)\n",
    "    imgs = X_train[idx]\n",
    "\n",
    "    # Sample noise and generate a half batch of new images\n",
    "    noise = np.random.normal(0, 1, (half_batch, 100))\n",
    "    gen_imgs = model_g.predict(noise)\n",
    "\n",
    "    # Train the discriminator (real classified as ones and generated as zeros)\n",
    "    d_loss_real = model_d.train_on_batch(imgs, np.ones((half_batch, 1)))\n",
    "    d_loss_fake = model_d.train_on_batch(gen_imgs, np.zeros((half_batch, 1)))\n",
    "    d_loss = 0.5 * np.add(d_loss_real, d_loss_fake)\n",
    "\n",
    "    # ---------------------\n",
    "    #  Train Generator\n",
    "    # ---------------------\n",
    "\n",
    "    # Sample generator input\n",
    "    noise = np.random.normal(0, 1, (batch_size, 100))\n",
    "\n",
    "    # Train the generator (wants discriminator to mistake images as real)\n",
    "    g_loss = model.train_on_batch(noise, np.ones((batch_size, 1)))\n",
    "\n",
    "    # Plot the progress\n",
    "    if epoch%10 == 0:\n",
    "        print (\"%d [D loss: %f, acc.: %.2f%%] [G loss: %f]\" % (epoch, d_loss[0], 100*d_loss[1], g_loss[0]))"
   ]
  }
 ],
 "metadata": {
  "kernelspec": {
   "display_name": "Python 3",
   "language": "python",
   "name": "python3"
  },
  "language_info": {
   "codemirror_mode": {
    "name": "ipython",
    "version": 3
   },
   "file_extension": ".py",
   "mimetype": "text/x-python",
   "name": "python",
   "nbconvert_exporter": "python",
   "pygments_lexer": "ipython3",
   "version": "3.6.4"
  }
 },
 "nbformat": 4,
 "nbformat_minor": 2
}
